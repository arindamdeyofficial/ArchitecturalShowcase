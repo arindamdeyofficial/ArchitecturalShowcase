{
  "nbformat": 4,
  "nbformat_minor": 0,
  "metadata": {
    "colab": {
      "name": "Untitled0.ipynb",
      "provenance": [],
      "authorship_tag": "ABX9TyP4DoDlICmtThcRHULe9/KC",
      "include_colab_link": true
    },
    "kernelspec": {
      "name": "python3",
      "display_name": "Python 3"
    },
    "accelerator": "TPU"
  },
  "cells": [
    {
      "cell_type": "markdown",
      "metadata": {
        "id": "view-in-github",
        "colab_type": "text"
      },
      "source": [
        "<a href=\"https://colab.research.google.com/github/arindamdeyofficial/ArchitecturalShowcase/blob/master/housepred.ipynb\" target=\"_parent\"><img src=\"https://colab.research.google.com/assets/colab-badge.svg\" alt=\"Open In Colab\"/></a>"
      ]
    },
    {
      "cell_type": "code",
      "metadata": {
        "colab": {
          "base_uri": "https://localhost:8080/"
        },
        "id": "h1_tl_22lNhv",
        "outputId": "84165604-0984-4675-b9a9-e8c053be0c34"
      },
      "source": [
        "import pandas as pd\r\n",
        "data = pd.read_csv('https://raw.githubusercontent.com/arindamdeyofficial/DataScience/master/Housepricepred/test.csv')\r\n",
        "print(data.shape)"
      ],
      "execution_count": 2,
      "outputs": [
        {
          "output_type": "stream",
          "text": [
            "(1459, 80)\n"
          ],
          "name": "stdout"
        }
      ]
    }
  ]
}